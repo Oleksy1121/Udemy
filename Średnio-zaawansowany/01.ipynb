{
  "nbformat": 4,
  "nbformat_minor": 0,
  "metadata": {
    "colab": {
      "provenance": [],
      "toc_visible": true,
      "authorship_tag": "ABX9TyMRXEEi5bGsxhMphus5Rc1F",
      "include_colab_link": true
    },
    "kernelspec": {
      "name": "python3",
      "display_name": "Python 3"
    },
    "language_info": {
      "name": "python"
    }
  },
  "cells": [
    {
      "cell_type": "markdown",
      "metadata": {
        "id": "view-in-github",
        "colab_type": "text"
      },
      "source": [
        "<a href=\"https://colab.research.google.com/github/Oleksy1121/Udemy/blob/main/%C5%9Arednio-zaawansowany/01.ipynb\" target=\"_parent\"><img src=\"https://colab.research.google.com/assets/colab-badge.svg\" alt=\"Open In Colab\"/></a>"
      ]
    },
    {
      "cell_type": "code",
      "execution_count": null,
      "metadata": {
        "id": "8cuRZNtYRwaA"
      },
      "outputs": [],
      "source": [
        "print (\"Hello Colab!\")"
      ]
    },
    {
      "cell_type": "markdown",
      "source": [
        "# Helloł"
      ],
      "metadata": {
        "id": "mhmiyoK8R0Hi"
      }
    }
  ]
}